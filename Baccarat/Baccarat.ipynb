{
 "cells": [
  {
   "cell_type": "markdown",
   "id": "ce6ddebe",
   "metadata": {},
   "source": [
    "# Baccarat\n",
    "## 1. Rules\n",
    "link to wiki"
   ]
  },
  {
   "cell_type": "code",
   "execution_count": null,
   "id": "46828bd0",
   "metadata": {
    "vscode": {
     "languageId": "plaintext"
    }
   },
   "outputs": [],
   "source": [
    "\n",
    "\n",
    "\n",
    "\n",
    "\n",
    "\n",
    "\n"
   ]
  },
  {
   "cell_type": "code",
   "execution_count": null,
   "id": "c14738e3",
   "metadata": {
    "vscode": {
     "languageId": "plaintext"
    }
   },
   "outputs": [],
   "source": []
  }
 ],
 "metadata": {
  "language_info": {
   "name": "python"
  }
 },
 "nbformat": 4,
 "nbformat_minor": 5
}
